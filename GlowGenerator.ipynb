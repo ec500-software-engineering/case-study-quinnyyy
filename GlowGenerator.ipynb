{
 "cells": [
  {
   "cell_type": "code",
   "execution_count": 1,
   "metadata": {},
   "outputs": [],
   "source": [
    "%%capture\n",
    "!pip install numpy opencv-python dlib imutils scikit-image pillow\n",
    "import cv2\n",
    "import time\n",
    "from imutils import face_utils\n",
    "import dlib\n",
    "import scipy.misc\n",
    "from skimage.draw import line_aa\n",
    "import numpy as np\n",
    "from PIL import Image, ImageDraw"
   ]
  },
  {
   "cell_type": "code",
   "execution_count": 2,
   "metadata": {},
   "outputs": [],
   "source": [
    "def paint_feature(shapes,img,outline_color,fill_color):\n",
    "    draw = ImageDraw.Draw(img)\n",
    "    draw.polygon(shapes, outline=outline_color, fill=fill_color)"
   ]
  },
  {
   "cell_type": "code",
   "execution_count": 3,
   "metadata": {},
   "outputs": [],
   "source": [
    "NUM_SECONDS = 3\n",
    "eye_color1 = (255,0,0)\n",
    "eye_color2 = (0,255,0)\n",
    "mouth_color = (0,0,0)\n",
    "inner_mouth_color = (255,255,255)\n",
    "\n",
    "JAWLINE_POINTS = list(range(0, 17))  \n",
    "RIGHT_EYEBROW_POINTS = list(range(17, 22))  \n",
    "LEFT_EYEBROW_POINTS = list(range(22, 27))  \n",
    "NOSE_POINTS = list(range(27, 36))  \n",
    "RIGHT_EYE_POINTS = list(range(36, 42))  \n",
    "LEFT_EYE_POINTS = list(range(42, 48))  \n",
    "MOUTH_OUTLINE_POINTS = list(range(48, 61))  \n",
    "MOUTH_INNER_POINTS = list(range(61, 68))"
   ]
  },
  {
   "cell_type": "code",
   "execution_count": 4,
   "metadata": {},
   "outputs": [],
   "source": [
    "p = \"shape_predictor_68_face_landmarks.dat\"\n",
    "detector = dlib.get_frontal_face_detector()\n",
    "predictor = dlib.shape_predictor(p)"
   ]
  },
  {
   "cell_type": "code",
   "execution_count": 5,
   "metadata": {},
   "outputs": [
    {
     "name": "stdout",
     "output_type": "stream",
     "text": [
      "starting capture\n",
      "capture finished\n"
     ]
    }
   ],
   "source": [
    "cap = cv2.VideoCapture(0)\n",
    "time.sleep(1)\n",
    "images = []\n",
    "grays = []\n",
    "rectList = []\n",
    "shapeList = []\n",
    "timeout = time.time() + NUM_SECONDS\n",
    "\n",
    "print(\"starting capture\")\n",
    "while True:\n",
    "    if time.time() > timeout:\n",
    "        break\n",
    "    _, image = cap.read()\n",
    "    images.append(Image.fromarray(image))\n",
    "    gray = cv2.cvtColor(image, cv2.COLOR_BGR2GRAY)\n",
    "    grays.append(gray)\n",
    "    rects = detector(gray, 0)\n",
    "    if (len(rects) > 0):\n",
    "        shape = predictor(gray, rects[0])\n",
    "        shape = face_utils.shape_to_np(shape)\n",
    "        rectList.append(rects)\n",
    "        shapeList.append(shape)\n",
    "print(\"capture finished\")\n",
    "cap.release()"
   ]
  },
  {
   "cell_type": "code",
   "execution_count": 6,
   "metadata": {},
   "outputs": [],
   "source": [
    "#Paint static colors\n",
    "for i in range(0,len(shapeList)):\n",
    "    #paint the left eye\n",
    "    left = tuple(map(tuple,shapeList[i][LEFT_EYE_POINTS]))\n",
    "    paint_feature(left,images[i],(0,0,0),eye_color1)\n",
    "    #paint the right eye\n",
    "    right = tuple(map(tuple,shapeList[i][RIGHT_EYE_POINTS]))\n",
    "    paint_feature(right,images[i],(0,0,0),eye_color2)\n",
    "    #paint the mouth\n",
    "    mouth = tuple(map(tuple,shapeList[i][MOUTH_OUTLINE_POINTS]))\n",
    "    paint_feature(mouth,images[i],(0,0,0),mouth_color)\n",
    "    #paint inner mouth\n",
    "    inner = tuple(map(tuple,shapeList[i][MOUTH_INNER_POINTS]))\n",
    "    paint_feature(inner,images[i],(255,255,255),(255,255,255))"
   ]
  },
  {
   "cell_type": "code",
   "execution_count": 7,
   "metadata": {},
   "outputs": [],
   "source": [
    "mouth_start = (255,255,255)\n",
    "mouth_end = (0,0,0)\n",
    "left_eye_start = (0,0,255)\n",
    "left_eye_end = (0,255,0)\n",
    "right_eye_start = (0,255,0)\n",
    "right_eye_end = (0,0,255)\n",
    "\n",
    "mouth_r_col = np.linspace(mouth_start[0],mouth_end[0],num=len(shapeList))\n",
    "mouth_r_col = mouth_r_col.astype(int)\n",
    "mouth_g_col = np.linspace(mouth_start[1],mouth_end[1],num=len(shapeList))\n",
    "mouth_g_col = mouth_g_col.astype(int)\n",
    "mouth_b_col = np.linspace(mouth_start[2],mouth_end[2],num=len(shapeList))\n",
    "mouth_b_col = mouth_b_col.astype(int)\n",
    "mouth_colors = (mouth_r_col,mouth_g_col,mouth_b_col)\n",
    "\n",
    "left_eye_r_col = np.linspace(left_eye_start[0],left_eye_end[0],num=len(shapeList))\n",
    "left_eye_r_col = left_eye_r_col.astype(int)\n",
    "left_eye_g_col = np.linspace(left_eye_start[1],left_eye_end[1],num=len(shapeList))\n",
    "left_eye_g_col = left_eye_g_col.astype(int)\n",
    "left_eye_b_col = np.linspace(left_eye_start[2],left_eye_end[2],num=len(shapeList))\n",
    "left_eye_b_col = left_eye_b_col.astype(int)\n",
    "left_eye_colors = (left_eye_r_col,left_eye_g_col,left_eye_b_col)\n",
    "\n",
    "right_eye_r_col = np.linspace(right_eye_start[0],right_eye_end[0],num=len(shapeList))\n",
    "right_eye_r_col = right_eye_r_col.astype(int)\n",
    "right_eye_g_col = np.linspace(right_eye_start[1],right_eye_end[1],num=len(shapeList))\n",
    "right_eye_g_col = right_eye_g_col.astype(int)\n",
    "right_eye_b_col = np.linspace(right_eye_start[2],right_eye_end[2],num=len(shapeList))\n",
    "right_eye_b_col = right_eye_b_col.astype(int)\n",
    "right_eye_colors = (right_eye_r_col,right_eye_g_col,right_eye_b_col)\n"
   ]
  },
  {
   "cell_type": "code",
   "execution_count": 8,
   "metadata": {},
   "outputs": [],
   "source": [
    "#Paint dynamic colors\n",
    "for i in range(0,len(shapeList)):\n",
    "    #paint the left eye\n",
    "    left = tuple(map(tuple,shapeList[i][LEFT_EYE_POINTS]))\n",
    "    paint_feature(left,images[i],(0,0,0),(left_eye_colors[0][i],left_eye_colors[1][i],left_eye_colors[2][i]))\n",
    "    #paint the right eye\n",
    "    right = tuple(map(tuple,shapeList[i][RIGHT_EYE_POINTS]))\n",
    "    paint_feature(right,images[i],(0,0,0),(right_eye_colors[0][i],right_eye_colors[1][i],right_eye_colors[2][i]))\n",
    "    #paint the mouth\n",
    "    mouth = tuple(map(tuple,shapeList[i][MOUTH_OUTLINE_POINTS]))\n",
    "    paint_feature(mouth,images[i],(0,0,0),(mouth_colors[0][i],mouth_colors[1][i],mouth_colors[2][i]))\n",
    "    #paint inner mouth\n",
    "    #inner = tuple(map(tuple,shapeList[i][MOUTH_INNER_POINTS]))\n",
    "    #paint_feature(inner,images[i],(255,255,255),(255,255,255))"
   ]
  },
  {
   "cell_type": "code",
   "execution_count": 6,
   "metadata": {},
   "outputs": [],
   "source": [
    "#Flicker colors\n",
    "left_colors = ((0,255,255),(0,0,255))\n",
    "right_colors = ((0,0,255),(0,255,255))\n",
    "mouth_colors = ((255,255,255),(0,0,0))\n",
    "\n",
    "for i in range(0,len(shapeList)):\n",
    "    #paint the left eye\n",
    "    left = tuple(map(tuple,shapeList[i][LEFT_EYE_POINTS]))\n",
    "    paint_feature(left,images[i],(0,0,0),left_colors[i % 2])\n",
    "    #paint the right eye\n",
    "    right = tuple(map(tuple,shapeList[i][RIGHT_EYE_POINTS]))\n",
    "    paint_feature(right,images[i],(0,0,0),right_colors[i % 2])\n",
    "    #paint the mouth\n",
    "    mouth = tuple(map(tuple,shapeList[i][MOUTH_OUTLINE_POINTS]))\n",
    "    paint_feature(mouth,images[i],(0,0,0),mouth_colors[i % 2])\n",
    "    #paint inner mouth\n",
    "    #inner = tuple(map(tuple,shapeList[i][MOUTH_INNER_POINTS]))\n",
    "    #paint_feature(inner,images[i],(255,255,255),(255,255,255))"
   ]
  },
  {
   "cell_type": "code",
   "execution_count": 7,
   "metadata": {},
   "outputs": [],
   "source": [
    "for i in range(0,len(images)):\n",
    "    cv2.imshow(\"Output\",np.array(images[i]))\n",
    "    cv2.waitKey(115)\n",
    "    if (i == len(images) - 1):\n",
    "        break\n",
    "cv2.destroyAllWindows()"
   ]
  },
  {
   "cell_type": "code",
   "execution_count": 7,
   "metadata": {},
   "outputs": [
    {
     "name": "stdout",
     "output_type": "stream",
     "text": [
      "29\n"
     ]
    }
   ],
   "source": []
  },
  {
   "cell_type": "code",
   "execution_count": null,
   "metadata": {},
   "outputs": [],
   "source": []
  }
 ],
 "metadata": {
  "kernelspec": {
   "display_name": "Python 3",
   "language": "python",
   "name": "python3"
  },
  "language_info": {
   "codemirror_mode": {
    "name": "ipython",
    "version": 3
   },
   "file_extension": ".py",
   "mimetype": "text/x-python",
   "name": "python",
   "nbconvert_exporter": "python",
   "pygments_lexer": "ipython3",
   "version": "3.7.1"
  }
 },
 "nbformat": 4,
 "nbformat_minor": 2
}
